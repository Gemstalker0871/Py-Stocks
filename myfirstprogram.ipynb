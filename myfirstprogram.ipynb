{
 "cells": [
  {
   "cell_type": "code",
   "execution_count": 2,
   "id": "d320feb6",
   "metadata": {},
   "outputs": [
    {
     "name": "stdout",
     "output_type": "stream",
     "text": [
      "Hello Worrld\n"
     ]
    }
   ],
   "source": [
    "#printing hello world as my first code just to check\n",
    "print('Hello Worrld')"
   ]
  },
  {
   "cell_type": "code",
   "execution_count": null,
   "id": "edad722e",
   "metadata": {},
   "outputs": [],
   "source": [
    "'' single quote\n",
    "\"\" double quote\n",
    "#  Comment\n",
    "() paranthiesis\n",
    "{} curly braces\n",
    "[] Square bracket"
   ]
  },
  {
   "cell_type": "code",
   "execution_count": 18,
   "id": "314f7f2e",
   "metadata": {},
   "outputs": [
    {
     "name": "stdout",
     "output_type": "stream",
     "text": [
      "5\n",
      "Vishal\n"
     ]
    }
   ],
   "source": [
    "x = 5\n",
    "y = 'Vishal'\n",
    "print(x)\n",
    "print(y)"
   ]
  },
  {
   "cell_type": "code",
   "execution_count": 21,
   "id": "80ba2859",
   "metadata": {},
   "outputs": [
    {
     "data": {
      "text/plain": [
       "str"
      ]
     },
     "execution_count": 21,
     "metadata": {},
     "output_type": "execute_result"
    }
   ],
   "source": [
    "# Checking the variable type\n",
    "type(y)"
   ]
  },
  {
   "cell_type": "code",
   "execution_count": 24,
   "id": "d581c8f4",
   "metadata": {},
   "outputs": [
    {
     "ename": "",
     "evalue": "",
     "output_type": "error",
     "traceback": [
      "\u001b[1;31mRunning cells with 'Python 3.12.1' requires the ipykernel package.\n",
      "\u001b[1;31mRun the following command to install 'ipykernel' into the Python environment. \n",
      "\u001b[1;31mCommand: 'c:/Users/sambh/AppData/Local/Programs/Python/Python312/python.exe -m pip install ipykernel -U --user --force-reinstall'"
     ]
    }
   ],
   "source": [
    "# Legal Variable names\n",
    "_myvar = 100\n",
    "myvar = 90\n",
    "myvar1 = 80\n",
    "_myvar_ = 70\n",
    "Myvar = 60"
   ]
  },
  {
   "cell_type": "code",
   "execution_count": 25,
   "id": "dc8a37bb",
   "metadata": {},
   "outputs": [],
   "source": [
    "# Assigning multiple variables at once\n",
    "a,b,c = 1,2,3"
   ]
  },
  {
   "cell_type": "code",
   "execution_count": 31,
   "id": "4e1a39a8",
   "metadata": {},
   "outputs": [
    {
     "name": "stdout",
     "output_type": "stream",
     "text": [
      "100+100\n"
     ]
    }
   ],
   "source": [
    "print('100+100')"
   ]
  },
  {
   "cell_type": "code",
   "execution_count": 32,
   "id": "5e3de3c8",
   "metadata": {},
   "outputs": [
    {
     "name": "stdout",
     "output_type": "stream",
     "text": [
      "200\n"
     ]
    }
   ],
   "source": [
    "print(100+100)"
   ]
  },
  {
   "cell_type": "code",
   "execution_count": 35,
   "id": "ae86593a",
   "metadata": {},
   "outputs": [
    {
     "data": {
      "text/plain": [
       "'\\nint\\nstring\\nfloat\\nbool\\nlist\\ndict\\n'"
      ]
     },
     "execution_count": 35,
     "metadata": {},
     "output_type": "execute_result"
    }
   ],
   "source": [
    "#Data Types\n",
    "'''\n",
    "int\n",
    "string\n",
    "float\n",
    "bool\n",
    "list\n",
    "dict\n",
    "'''"
   ]
  },
  {
   "cell_type": "code",
   "execution_count": 40,
   "id": "3fd002bb",
   "metadata": {},
   "outputs": [],
   "source": [
    "#int\n",
    "a = 100"
   ]
  },
  {
   "cell_type": "code",
   "execution_count": 41,
   "id": "5f264363",
   "metadata": {},
   "outputs": [],
   "source": [
    "#string\n",
    "b = 'hundred'"
   ]
  },
  {
   "cell_type": "code",
   "execution_count": 42,
   "id": "f477c1ef",
   "metadata": {},
   "outputs": [],
   "source": [
    "#float\n",
    "c = 100.10"
   ]
  },
  {
   "cell_type": "code",
   "execution_count": 43,
   "id": "b8b1117e",
   "metadata": {},
   "outputs": [],
   "source": [
    "#bool\n",
    "d = True\n",
    "d = False"
   ]
  },
  {
   "cell_type": "code",
   "execution_count": 45,
   "id": "cce55308",
   "metadata": {},
   "outputs": [
    {
     "name": "stdout",
     "output_type": "stream",
     "text": [
      "100\n",
      "<class 'str'>\n"
     ]
    }
   ],
   "source": [
    "#Casting Variables\n",
    "temp = str(a)\n",
    "print(temp)\n",
    "print(type(temp))"
   ]
  },
  {
   "cell_type": "code",
   "execution_count": 46,
   "id": "f651597b",
   "metadata": {},
   "outputs": [
    {
     "name": "stdout",
     "output_type": "stream",
     "text": [
      "100\n",
      "100.0\n"
     ]
    }
   ],
   "source": [
    "#Casting int to string and int to float\n",
    "a = 100\n",
    "print(str(a))\n",
    "print(float(a))"
   ]
  },
  {
   "cell_type": "code",
   "execution_count": 49,
   "id": "f8f5c81e",
   "metadata": {},
   "outputs": [
    {
     "name": "stdout",
     "output_type": "stream",
     "text": [
      "100\n",
      "100.0\n"
     ]
    }
   ],
   "source": [
    "#Casting str to int and str to float\n",
    "a = '100'\n",
    "print(int(a))\n",
    "print(float(a))"
   ]
  },
  {
   "cell_type": "code",
   "execution_count": 51,
   "id": "9e89435f",
   "metadata": {},
   "outputs": [
    {
     "name": "stdout",
     "output_type": "stream",
     "text": [
      "100\n",
      "100.1\n"
     ]
    }
   ],
   "source": [
    "#Casting float to int and float to str\n",
    "a = 100.10\n",
    "print(int(a))\n",
    "print(str(a))"
   ]
  },
  {
   "cell_type": "code",
   "execution_count": null,
   "id": "6721290c",
   "metadata": {},
   "outputs": [],
   "source": []
  }
 ],
 "metadata": {
  "kernelspec": {
   "display_name": "Python 3",
   "language": "python",
   "name": "python3"
  },
  "language_info": {
   "codemirror_mode": {
    "name": "ipython",
    "version": 3
   },
   "file_extension": ".py",
   "mimetype": "text/x-python",
   "name": "python",
   "nbconvert_exporter": "python",
   "pygments_lexer": "ipython3",
   "version": "3.12.1"
  }
 },
 "nbformat": 4,
 "nbformat_minor": 5
}
